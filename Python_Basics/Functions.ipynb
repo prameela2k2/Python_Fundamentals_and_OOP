{
  "nbformat": 4,
  "nbformat_minor": 0,
  "metadata": {
    "colab": {
      "provenance": []
    },
    "kernelspec": {
      "name": "python3",
      "display_name": "Python 3"
    },
    "language_info": {
      "name": "python"
    }
  },
  "cells": [
    {
      "cell_type": "markdown",
      "source": [
        "**FUNCTIONS**\n",
        " -> Benefits: code modularity,code readability,code reusability"
      ],
      "metadata": {
        "id": "n0oYpF27Z2N8"
      }
    },
    {
      "cell_type": "code",
      "source": [
        "#create a function\n",
        "def my_function():\n",
        "  \"\"\" this is a docstring i.e. if something is return in triple quotes then it is a docstring\"\"\"\n",
        "  print(\"hi,my name is prameela\")\n",
        "my_function()"
      ],
      "metadata": {
        "colab": {
          "base_uri": "https://localhost:8080/"
        },
        "id": "XtXQEy-oaDSf",
        "outputId": "c57a81ea-884e-41fd-a441-8fd0f2221f7f"
      },
      "execution_count": null,
      "outputs": [
        {
          "output_type": "stream",
          "name": "stdout",
          "text": [
            "hi,my name is prameela\n"
          ]
        }
      ]
    },
    {
      "cell_type": "code",
      "source": [
        "my_function.__doc__ #to view the documentation written in the code"
      ],
      "metadata": {
        "colab": {
          "base_uri": "https://localhost:8080/",
          "height": 35
        },
        "id": "BThX8r1fouPe",
        "outputId": "f22ebfbe-a2b5-4156-ff76-2842e1fbe6d3"
      },
      "execution_count": null,
      "outputs": [
        {
          "output_type": "execute_result",
          "data": {
            "text/plain": [
              "' this is a docstring i.e. if something is return in triple quotes then it is a docstring'"
            ],
            "application/vnd.google.colaboratory.intrinsic+json": {
              "type": "string"
            }
          },
          "metadata": {},
          "execution_count": 14
        }
      ]
    },
    {
      "cell_type": "markdown",
      "source": [
        "#types of arguments :  argument,positional argument,keyword argument"
      ],
      "metadata": {
        "id": "6yOV_1jylCAE"
      }
    },
    {
      "cell_type": "code",
      "source": [
        "def power(a=1,b=2): #default argument if a n b doesnt alloted any number\n",
        "  return a**b\n",
        "power(2,3)"
      ],
      "metadata": {
        "id": "LWxRpzTKg1To",
        "colab": {
          "base_uri": "https://localhost:8080/"
        },
        "outputId": "15c594c8-6df3-4abb-fce2-e2d05be11d04"
      },
      "execution_count": null,
      "outputs": [
        {
          "output_type": "execute_result",
          "data": {
            "text/plain": [
              "8"
            ]
          },
          "metadata": {},
          "execution_count": 6
        }
      ]
    },
    {
      "cell_type": "code",
      "source": [
        "#positional argument\n",
        "power(2,3)#i.e. a gets alloted as a and b gets allotted as b it follows a order."
      ],
      "metadata": {
        "colab": {
          "base_uri": "https://localhost:8080/"
        },
        "id": "rvEGAOZolhhE",
        "outputId": "8be70cd0-62b0-44b1-db8f-ac4d4c8efdc0"
      },
      "execution_count": null,
      "outputs": [
        {
          "output_type": "execute_result",
          "data": {
            "text/plain": [
              "4"
            ]
          },
          "metadata": {},
          "execution_count": 7
        }
      ]
    },
    {
      "cell_type": "code",
      "source": [
        "#keyword arguments\n",
        "\n",
        "power(b=2,a=3) #alloting values though we dont know the position of the element\n",
        "\n"
      ],
      "metadata": {
        "colab": {
          "base_uri": "https://localhost:8080/"
        },
        "id": "zAxmJTVCl-tm",
        "outputId": "f20b35a2-f312-45eb-94c3-1dffa0264a53"
      },
      "execution_count": null,
      "outputs": [
        {
          "output_type": "execute_result",
          "data": {
            "text/plain": [
              "9"
            ]
          },
          "metadata": {},
          "execution_count": 9
        }
      ]
    },
    {
      "cell_type": "code",
      "source": [
        "#*args and **kwargs\n",
        "#*args : to handle any 'n' number of arguments.\n",
        "def mutliply(*args): #no need to use only args can use any word in that place *prameela also.\n",
        "  result=1\n",
        "  for i in args:\n",
        "    result=result*i\n",
        "  return result\n",
        "print(mutliply(2,3))\n",
        "#**kwargs : allows us to allow any number of keyword argument ,contains a key-value pair like dictionary for rest we use *args\n",
        "def display(**kwargs): #no need to use only kwargs can use any word like **satyavathi anything.\n",
        "  for (key,value) in kwargs.items():\n",
        "    print(key,\"->\",value)\n",
        "display(A=1,B=2,C=3)\n",
        "\n",
        "\n"
      ],
      "metadata": {
        "colab": {
          "base_uri": "https://localhost:8080/"
        },
        "id": "E5vz38mdmyVB",
        "outputId": "c653b196-78f1-4d0b-a9f9-904c268b2d65"
      },
      "execution_count": null,
      "outputs": [
        {
          "output_type": "stream",
          "name": "stdout",
          "text": [
            "6\n",
            "A -> 1\n",
            "B -> 2\n",
            "C -> 3\n"
          ]
        }
      ]
    },
    {
      "cell_type": "code",
      "source": [
        "#without return\n",
        "def alphabet():\n",
        "  print(\"abcdefghijklmnopqrstuvwxyz\")\n",
        "print(alphabet())"
      ],
      "metadata": {
        "id": "G7-zMMK8sFaU"
      },
      "execution_count": null,
      "outputs": []
    },
    {
      "cell_type": "code",
      "source": [
        "#variable scope :global vs local\n",
        "def f(x):\n",
        "  print(y)\n",
        "  print(y+1)\n",
        "y=6\n",
        "f(y)\n",
        "print(y)\n"
      ],
      "metadata": {
        "colab": {
          "base_uri": "https://localhost:8080/"
        },
        "id": "hrJaoVkusgr2",
        "outputId": "591a128b-6b57-4eaf-d381-b9f0f085555c"
      },
      "execution_count": null,
      "outputs": [
        {
          "output_type": "stream",
          "name": "stdout",
          "text": [
            "6\n",
            "7\n",
            "6\n"
          ]
        }
      ]
    },
    {
      "cell_type": "code",
      "source": [
        "#nested loops\n",
        "def f():\n",
        "  def g():\n",
        "    print('g')\n",
        "  g()\n",
        "  print('f')\n",
        "f()\n"
      ],
      "metadata": {
        "colab": {
          "base_uri": "https://localhost:8080/"
        },
        "id": "lEB4yZsmtrL8",
        "outputId": "746c84bd-b8b2-4700-d9fb-92bc909a5805"
      },
      "execution_count": null,
      "outputs": [
        {
          "output_type": "stream",
          "name": "stdout",
          "text": [
            "g\n",
            "f\n"
          ]
        }
      ]
    },
    {
      "cell_type": "code",
      "source": [
        "#functions are first class citizens : functions act as a data type in python.\n",
        "#type n id\n",
        "def square(sum):\n",
        "  return sum**2\n",
        "type(square)\n",
        "id(square)\n"
      ],
      "metadata": {
        "colab": {
          "base_uri": "https://localhost:8080/"
        },
        "id": "ZWqEyK8144l5",
        "outputId": "21fe02f7-0d01-4372-dabc-8cfabc91f815"
      },
      "execution_count": null,
      "outputs": [
        {
          "output_type": "execute_result",
          "data": {
            "text/plain": [
              "139291042858896"
            ]
          },
          "metadata": {},
          "execution_count": 30
        }
      ]
    },
    {
      "cell_type": "code",
      "source": [
        "#reassign\n",
        "x=square\n",
        "id(x)\n",
        "x(3)\n"
      ],
      "metadata": {
        "colab": {
          "base_uri": "https://localhost:8080/"
        },
        "id": "78pwFYQP6pU6",
        "outputId": "aec322e2-d4f6-47da-8fee-21a3e1901c66"
      },
      "execution_count": null,
      "outputs": [
        {
          "output_type": "execute_result",
          "data": {
            "text/plain": [
              "9"
            ]
          },
          "metadata": {},
          "execution_count": 31
        }
      ]
    },
    {
      "cell_type": "code",
      "source": [
        "#deleting a function\n",
        "del square\n",
        "square(2)"
      ],
      "metadata": {
        "colab": {
          "base_uri": "https://localhost:8080/",
          "height": 176
        },
        "id": "g3SDUvNi7Zfd",
        "outputId": "ef9bb4f7-b852-4587-8296-08ae13902152"
      },
      "execution_count": null,
      "outputs": [
        {
          "output_type": "error",
          "ename": "NameError",
          "evalue": "name 'square' is not defined",
          "traceback": [
            "\u001b[0;31m---------------------------------------------------------------------------\u001b[0m",
            "\u001b[0;31mNameError\u001b[0m                                 Traceback (most recent call last)",
            "\u001b[0;32m<ipython-input-27-ecfdd8e6d0c3>\u001b[0m in \u001b[0;36m<cell line: 3>\u001b[0;34m()\u001b[0m\n\u001b[1;32m      1\u001b[0m \u001b[0;31m#deleting a function\u001b[0m\u001b[0;34m\u001b[0m\u001b[0;34m\u001b[0m\u001b[0m\n\u001b[1;32m      2\u001b[0m \u001b[0;32mdel\u001b[0m \u001b[0msquare\u001b[0m\u001b[0;34m\u001b[0m\u001b[0;34m\u001b[0m\u001b[0m\n\u001b[0;32m----> 3\u001b[0;31m \u001b[0msquare\u001b[0m\u001b[0;34m(\u001b[0m\u001b[0;36m2\u001b[0m\u001b[0;34m)\u001b[0m\u001b[0;34m\u001b[0m\u001b[0;34m\u001b[0m\u001b[0m\n\u001b[0m",
            "\u001b[0;31mNameError\u001b[0m: name 'square' is not defined"
          ]
        }
      ]
    },
    {
      "cell_type": "code",
      "source": [
        "#storing\n",
        "L=[1,2,3,4,square]\n",
        "L[-1](3)"
      ],
      "metadata": {
        "colab": {
          "base_uri": "https://localhost:8080/"
        },
        "id": "zWm0hOSI7nwy",
        "outputId": "50543db6-c06f-44c8-b627-f90ec09ca694"
      },
      "execution_count": null,
      "outputs": [
        {
          "output_type": "execute_result",
          "data": {
            "text/plain": [
              "9"
            ]
          },
          "metadata": {},
          "execution_count": 32
        }
      ]
    },
    {
      "cell_type": "code",
      "source": [
        "s={square}\n",
        "s"
      ],
      "metadata": {
        "colab": {
          "base_uri": "https://localhost:8080/"
        },
        "id": "oNVRTA9y8K00",
        "outputId": "f2031833-68ca-4c88-bdc8-90b4853c125a"
      },
      "execution_count": null,
      "outputs": [
        {
          "output_type": "execute_result",
          "data": {
            "text/plain": [
              "{<function __main__.square(sum)>}"
            ]
          },
          "metadata": {},
          "execution_count": 33
        }
      ]
    },
    {
      "cell_type": "markdown",
      "source": [
        "#lambda function : anonymous function,can take any no. of arguments , but can have only one expression."
      ],
      "metadata": {
        "id": "UlEx8I9S9G2R"
      }
    },
    {
      "cell_type": "code",
      "source": [
        "#lamda functions are not resuable,no name,no return value(returns a function,written in 1 line    adv: used in higher order functions[HOF])\n",
        "#lambda a,b:a+b\n",
        "a=lambda x,y:x+y\n",
        "print(a(2,4))\n",
        "lambda x,y:x+y #returning function\n",
        "\n"
      ],
      "metadata": {
        "colab": {
          "base_uri": "https://localhost:8080/"
        },
        "id": "e1KIMD4W9F6o",
        "outputId": "0df8cb7e-e863-44e2-e74e-40bb8a052b73"
      },
      "execution_count": null,
      "outputs": [
        {
          "output_type": "stream",
          "name": "stdout",
          "text": [
            "6\n"
          ]
        },
        {
          "output_type": "execute_result",
          "data": {
            "text/plain": [
              "<function __main__.<lambda>(x, y)>"
            ]
          },
          "metadata": {},
          "execution_count": 37
        }
      ]
    },
    {
      "cell_type": "code",
      "source": [
        "#odd or even\n",
        "a = lambda x:'even' if x%2==0 else 'odd'\n",
        "print(a(3))"
      ],
      "metadata": {
        "colab": {
          "base_uri": "https://localhost:8080/"
        },
        "id": "7eDXq2dH-Zsj",
        "outputId": "ccd9d17c-45b3-48c2-d86c-1ecff7f79e7b"
      },
      "execution_count": null,
      "outputs": [
        {
          "output_type": "stream",
          "name": "stdout",
          "text": [
            "odd\n"
          ]
        }
      ]
    },
    {
      "cell_type": "code",
      "source": [
        "#HOF\n",
        "def square(x):\n",
        "  return x**2\n",
        "def transform(f,n):\n",
        "  return f(n)\n",
        "transform(square,3)"
      ],
      "metadata": {
        "colab": {
          "base_uri": "https://localhost:8080/"
        },
        "id": "fXTpqRlI-pnq",
        "outputId": "146b0f61-3e7c-45f8-a486-150cf080411c"
      },
      "execution_count": null,
      "outputs": [
        {
          "output_type": "execute_result",
          "data": {
            "text/plain": [
              "9"
            ]
          },
          "metadata": {},
          "execution_count": 39
        }
      ]
    },
    {
      "cell_type": "code",
      "source": [
        "#map\n",
        "list(map(lambda x:x**2,[1,2,3,4]))"
      ],
      "metadata": {
        "colab": {
          "base_uri": "https://localhost:8080/"
        },
        "id": "bsA1DC5U_DWC",
        "outputId": "7667fb0c-1e70-4b08-89e4-d9c11b1f57dd"
      },
      "execution_count": null,
      "outputs": [
        {
          "output_type": "execute_result",
          "data": {
            "text/plain": [
              "[1, 4, 9, 16]"
            ]
          },
          "metadata": {},
          "execution_count": 40
        }
      ]
    },
    {
      "cell_type": "code",
      "source": [
        "#fetch names\n",
        "users=[\n",
        "    {\n",
        "        'name':'prameela',\n",
        "        'age':22\n",
        "    },\n",
        "    {\n",
        "        'name':'satyavathi',\n",
        "        'age':22\n",
        "    }\n",
        "\n",
        "]\n",
        "list(map(lambda user:user['name'],users))"
      ],
      "metadata": {
        "colab": {
          "base_uri": "https://localhost:8080/"
        },
        "id": "zhrqbSTz_KFm",
        "outputId": "06da747b-db21-4a48-907a-cecb707bf9d8"
      },
      "execution_count": null,
      "outputs": [
        {
          "output_type": "execute_result",
          "data": {
            "text/plain": [
              "['prameela', 'satyavathi']"
            ]
          },
          "metadata": {},
          "execution_count": 41
        }
      ]
    },
    {
      "cell_type": "code",
      "source": [
        "#filter\n",
        "list(filter(lambda x:x%2==0,[1,2,3,4]))"
      ],
      "metadata": {
        "colab": {
          "base_uri": "https://localhost:8080/"
        },
        "id": "_ZhOnceI_rOW",
        "outputId": "2d4ed1d6-d6b4-41f4-a84e-137e02b7dba6"
      },
      "execution_count": null,
      "outputs": [
        {
          "output_type": "execute_result",
          "data": {
            "text/plain": [
              "[2, 4]"
            ]
          },
          "metadata": {},
          "execution_count": 42
        }
      ]
    },
    {
      "cell_type": "code",
      "source": [
        "#reduce\n",
        "from functools import reduce\n",
        "reduce(lambda x,y:x+y,[1,2,3,4])"
      ],
      "metadata": {
        "colab": {
          "base_uri": "https://localhost:8080/"
        },
        "id": "i9dzmeTu_yaT",
        "outputId": "1a10c6f4-ed4e-4859-c413-e674d871bff5"
      },
      "execution_count": null,
      "outputs": [
        {
          "output_type": "execute_result",
          "data": {
            "text/plain": [
              "10"
            ]
          },
          "metadata": {},
          "execution_count": 43
        }
      ]
    },
    {
      "cell_type": "code",
      "source": [
        "#find min\n",
        "reduce(lambda x,y:x if x<y else y,[1,2,3,4])"
      ],
      "metadata": {
        "id": "RdSLYWWq_6nK",
        "outputId": "f1ab19ab-3a49-453c-91a4-9c84a6366bdd",
        "colab": {
          "base_uri": "https://localhost:8080/"
        }
      },
      "execution_count": null,
      "outputs": [
        {
          "output_type": "execute_result",
          "data": {
            "text/plain": [
              "1"
            ]
          },
          "metadata": {},
          "execution_count": 44
        }
      ]
    }
  ]
}