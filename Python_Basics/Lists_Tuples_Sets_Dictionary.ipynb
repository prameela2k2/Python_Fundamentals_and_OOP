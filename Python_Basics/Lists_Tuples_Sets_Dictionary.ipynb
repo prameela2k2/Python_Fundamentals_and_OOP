{
  "cells": [
    {
      "cell_type": "markdown",
      "metadata": {
        "id": "ifwAKOUyjMD3"
      },
      "source": [
        "**TUPLES**"
      ]
    },
    {
      "cell_type": "markdown",
      "metadata": {
        "id": "lATWU09gUaCL"
      },
      "source": [
        "Tuples:\n",
        "Similar to list,\n",
        "immutable list,\n",
        "ordered,\n",
        "unchangeable,\n",
        "allows duplicates."
      ]
    },
    {
      "cell_type": "code",
      "execution_count": null,
      "metadata": {
        "colab": {
          "base_uri": "https://localhost:8080/"
        },
        "id": "b9w-gwRBT9dj",
        "outputId": "02e80f05-b2c9-40cd-d3a6-dfd31413fecf"
      },
      "outputs": [
        {
          "name": "stdout",
          "output_type": "stream",
          "text": [
            "()\n"
          ]
        }
      ],
      "source": [
        "#empty\n",
        "t1=()\n",
        "print(t1)"
      ]
    },
    {
      "cell_type": "code",
      "execution_count": null,
      "metadata": {
        "colab": {
          "base_uri": "https://localhost:8080/"
        },
        "id": "hRm0a1o_VNyY",
        "outputId": "879cec70-ab55-44d2-8835-b79fc9f7d759"
      },
      "outputs": [
        {
          "name": "stdout",
          "output_type": "stream",
          "text": [
            "('hi',)\n"
          ]
        }
      ],
      "source": [
        "#create a tuple with single tuple\n",
        "t2=('hi',) #comma helps in guving the output as a tuple rather than simple string\n",
        "print(t2)"
      ]
    },
    {
      "cell_type": "code",
      "execution_count": null,
      "metadata": {
        "colab": {
          "base_uri": "https://localhost:8080/"
        },
        "id": "_rwu4IXBVWwq",
        "outputId": "fdd6b8db-3a2c-4455-b6ae-22dc088d0a2c"
      },
      "outputs": [
        {
          "name": "stdout",
          "output_type": "stream",
          "text": [
            "(2, 3, 45)\n"
          ]
        }
      ],
      "source": [
        "#homo\n",
        "t3=(2,3,45)\n",
        "print(t3)"
      ]
    },
    {
      "cell_type": "code",
      "execution_count": null,
      "metadata": {
        "colab": {
          "base_uri": "https://localhost:8080/"
        },
        "id": "7go-UDgXVuQE",
        "outputId": "4e3ebfc7-275c-4598-f309-a64924e278df"
      },
      "outputs": [
        {
          "name": "stdout",
          "output_type": "stream",
          "text": [
            "(1, 2, 'hi')\n"
          ]
        }
      ],
      "source": [
        "#hetero\n",
        "t4=(1,2,'hi')\n",
        "print(t4)"
      ]
    },
    {
      "cell_type": "code",
      "execution_count": null,
      "metadata": {
        "colab": {
          "base_uri": "https://localhost:8080/"
        },
        "id": "alfLkIqwV39K",
        "outputId": "3aa3b4f4-f03f-4677-a170-c3ae3bd11bf8"
      },
      "outputs": [
        {
          "name": "stdout",
          "output_type": "stream",
          "text": [
            "(1, 2, 3, (4, 5))\n"
          ]
        }
      ],
      "source": [
        "#tuple\n",
        "t5=(1,2,3,(4,5))\n",
        "print(t5)"
      ]
    },
    {
      "cell_type": "code",
      "execution_count": null,
      "metadata": {
        "colab": {
          "base_uri": "https://localhost:8080/"
        },
        "id": "BRX_ZsxGWCEK",
        "outputId": "b2810506-fa93-4c99-95ce-0295d7e4b6a8"
      },
      "outputs": [
        {
          "name": "stdout",
          "output_type": "stream",
          "text": [
            "('h', 'e', 'l', 'l', 'o')\n"
          ]
        }
      ],
      "source": [
        "#using type conversion\n",
        "t6=tuple('hello')\n",
        "print(t6)"
      ]
    },
    {
      "cell_type": "markdown",
      "metadata": {
        "id": "S_erDpXCWJMa"
      },
      "source": [
        "Accessing items:\n",
        "indexing and slicing"
      ]
    },
    {
      "cell_type": "code",
      "execution_count": null,
      "metadata": {
        "colab": {
          "base_uri": "https://localhost:8080/"
        },
        "id": "_CVY8PH4WIQp",
        "outputId": "d3d488a9-fbe0-4119-d501-da938d9b401d"
      },
      "outputs": [
        {
          "name": "stdout",
          "output_type": "stream",
          "text": [
            "(2, 3, 45)\n",
            "2\n",
            "45\n"
          ]
        }
      ],
      "source": [
        "print(t3)\n",
        "print(t3[0])\n",
        "print(t3[-1])"
      ]
    },
    {
      "cell_type": "code",
      "execution_count": null,
      "metadata": {
        "colab": {
          "base_uri": "https://localhost:8080/"
        },
        "id": "RccI5nFuWmgK",
        "outputId": "1e5513b8-65c2-4021-a092-22b05d63c5b5"
      },
      "outputs": [
        {
          "name": "stdout",
          "output_type": "stream",
          "text": [
            "(45, 3, 2)\n"
          ]
        }
      ],
      "source": [
        "print(t3[::-1])"
      ]
    },
    {
      "cell_type": "code",
      "execution_count": null,
      "metadata": {
        "colab": {
          "base_uri": "https://localhost:8080/"
        },
        "id": "7plaSA_xWsU0",
        "outputId": "fb1f0cd0-cf4d-426a-9a88-0aabcc69732f"
      },
      "outputs": [
        {
          "data": {
            "text/plain": [
              "4"
            ]
          },
          "execution_count": 13,
          "metadata": {},
          "output_type": "execute_result"
        }
      ],
      "source": [
        "t5[-1][0]"
      ]
    },
    {
      "cell_type": "code",
      "execution_count": null,
      "metadata": {
        "colab": {
          "base_uri": "https://localhost:8080/",
          "height": 159
        },
        "id": "5sfuzZxZXNOC",
        "outputId": "19235d40-b6d5-4bb2-8257-5ab0bd16084d"
      },
      "outputs": [
        {
          "ename": "TypeError",
          "evalue": "'tuple' object does not support item assignment",
          "output_type": "error",
          "traceback": [
            "\u001b[0;31m---------------------------------------------------------------------------\u001b[0m",
            "\u001b[0;31mTypeError\u001b[0m                                 Traceback (most recent call last)",
            "\u001b[0;32m<ipython-input-14-78c594f0f5ce>\u001b[0m in \u001b[0;36m<cell line: 2>\u001b[0;34m()\u001b[0m\n\u001b[1;32m      1\u001b[0m \u001b[0;31m#editing items\u001b[0m\u001b[0;34m\u001b[0m\u001b[0;34m\u001b[0m\u001b[0m\n\u001b[0;32m----> 2\u001b[0;31m \u001b[0mt3\u001b[0m\u001b[0;34m[\u001b[0m\u001b[0;36m0\u001b[0m\u001b[0;34m]\u001b[0m\u001b[0;34m=\u001b[0m\u001b[0;36m27\u001b[0m \u001b[0;31m#since immutable returns error.\u001b[0m\u001b[0;34m\u001b[0m\u001b[0;34m\u001b[0m\u001b[0m\n\u001b[0m",
            "\u001b[0;31mTypeError\u001b[0m: 'tuple' object does not support item assignment"
          ]
        }
      ],
      "source": [
        "#editing items\n",
        "t3[0]=27 #since immutable returns error.\n"
      ]
    },
    {
      "cell_type": "code",
      "execution_count": null,
      "metadata": {
        "colab": {
          "base_uri": "https://localhost:8080/",
          "height": 159
        },
        "id": "qQnZ6vpbXXyG",
        "outputId": "9ed067ef-105e-424c-cd32-7bfca97964a2"
      },
      "outputs": [
        {
          "ename": "TypeError",
          "evalue": "'tuple' object does not support item assignment",
          "output_type": "error",
          "traceback": [
            "\u001b[0;31m---------------------------------------------------------------------------\u001b[0m",
            "\u001b[0;31mTypeError\u001b[0m                                 Traceback (most recent call last)",
            "\u001b[0;32m<ipython-input-17-660f1ba42d99>\u001b[0m in \u001b[0;36m<cell line: 2>\u001b[0;34m()\u001b[0m\n\u001b[1;32m      1\u001b[0m \u001b[0;31m#adding items\u001b[0m\u001b[0;34m\u001b[0m\u001b[0;34m\u001b[0m\u001b[0m\n\u001b[0;32m----> 2\u001b[0;31m \u001b[0mt3\u001b[0m\u001b[0;34m[\u001b[0m\u001b[0;36m4\u001b[0m\u001b[0;34m]\u001b[0m\u001b[0;34m=\u001b[0m\u001b[0;36m27\u001b[0m \u001b[0;31m#since immutable returns error.\u001b[0m\u001b[0;34m\u001b[0m\u001b[0;34m\u001b[0m\u001b[0m\n\u001b[0m",
            "\u001b[0;31mTypeError\u001b[0m: 'tuple' object does not support item assignment"
          ]
        }
      ],
      "source": [
        "#adding items\n",
        "t3[4]=27 #since immutable returns error."
      ]
    },
    {
      "cell_type": "code",
      "execution_count": null,
      "metadata": {
        "colab": {
          "base_uri": "https://localhost:8080/",
          "height": 176
        },
        "id": "E0Q04W6gdvNk",
        "outputId": "42a14980-1261-4947-b7bd-bd002fef4177"
      },
      "outputs": [
        {
          "ename": "NameError",
          "evalue": "name 't4' is not defined",
          "output_type": "error",
          "traceback": [
            "\u001b[0;31m---------------------------------------------------------------------------\u001b[0m",
            "\u001b[0;31mNameError\u001b[0m                                 Traceback (most recent call last)",
            "\u001b[0;32m<ipython-input-32-7f49881f1cbd>\u001b[0m in \u001b[0;36m<cell line: 5>\u001b[0;34m()\u001b[0m\n\u001b[1;32m      3\u001b[0m \u001b[0;31m#but\u001b[0m\u001b[0;34m\u001b[0m\u001b[0;34m\u001b[0m\u001b[0m\n\u001b[1;32m      4\u001b[0m \u001b[0;32mdel\u001b[0m \u001b[0mt4\u001b[0m\u001b[0;34m\u001b[0m\u001b[0;34m\u001b[0m\u001b[0m\n\u001b[0;32m----> 5\u001b[0;31m \u001b[0mprint\u001b[0m\u001b[0;34m(\u001b[0m\u001b[0mt4\u001b[0m\u001b[0;34m)\u001b[0m \u001b[0;31m#return t3 undefined as it deltes\u001b[0m\u001b[0;34m\u001b[0m\u001b[0;34m\u001b[0m\u001b[0m\n\u001b[0m",
            "\u001b[0;31mNameError\u001b[0m: name 't4' is not defined"
          ]
        }
      ],
      "source": [
        "#deletion\n",
        "#del t4[0] #since immutable returns error.\n",
        "#but\n",
        "del t4\n",
        "print(t4) #return t3 undefined as it deltes\n"
      ]
    },
    {
      "cell_type": "code",
      "execution_count": null,
      "metadata": {
        "colab": {
          "base_uri": "https://localhost:8080/"
        },
        "id": "KGR4piXxemEw",
        "outputId": "15c92680-05fd-41b4-b987-ec8e0431a4b3"
      },
      "outputs": [
        {
          "name": "stdout",
          "output_type": "stream",
          "text": [
            "('hi', 1, 2, 'hi')\n",
            "('hi', 'hi', 'hi')\n",
            "1\n",
            "2\n",
            "hi\n"
          ]
        }
      ],
      "source": [
        "#operations on tuples\n",
        "print(t2+t4)\n",
        "print(t2*3)\n",
        "for i in t4:\n",
        "  print(i)\n"
      ]
    },
    {
      "cell_type": "code",
      "execution_count": null,
      "metadata": {
        "colab": {
          "base_uri": "https://localhost:8080/"
        },
        "id": "HVdtar2-fQG3",
        "outputId": "8cc9fc6e-9541-4904-bcc1-1ea225cb36b1"
      },
      "outputs": [
        {
          "name": "stdout",
          "output_type": "stream",
          "text": [
            "3\n",
            "45\n",
            "2\n",
            "50\n"
          ]
        },
        {
          "data": {
            "text/plain": [
              "[45, 3, 2]"
            ]
          },
          "execution_count": 30,
          "metadata": {},
          "output_type": "execute_result"
        }
      ],
      "source": [
        "#tuple functions\n",
        "print(len(t3))\n",
        "print(max(t3))\n",
        "print(min(t3))\n",
        "print(sum(t3))\n",
        "sorted(t3,reverse=True)\n"
      ]
    },
    {
      "cell_type": "code",
      "execution_count": null,
      "metadata": {
        "colab": {
          "base_uri": "https://localhost:8080/"
        },
        "id": "9nKMrAEXfxJf",
        "outputId": "ad565f6d-b38f-45fc-b798-33bccbe9593e"
      },
      "outputs": [
        {
          "data": {
            "text/plain": [
              "0"
            ]
          },
          "execution_count": 31,
          "metadata": {},
          "output_type": "execute_result"
        }
      ],
      "source": [
        "#count\n",
        "t3.count(50)"
      ]
    },
    {
      "cell_type": "code",
      "execution_count": null,
      "metadata": {
        "colab": {
          "base_uri": "https://localhost:8080/",
          "height": 159
        },
        "id": "WIBVa3wdf9rN",
        "outputId": "4a3ed4d0-966e-4553-f0aa-60cfc7fc37eb"
      },
      "outputs": [
        {
          "ename": "ValueError",
          "evalue": "tuple.index(x): x not in tuple",
          "output_type": "error",
          "traceback": [
            "\u001b[0;31m---------------------------------------------------------------------------\u001b[0m",
            "\u001b[0;31mValueError\u001b[0m                                Traceback (most recent call last)",
            "\u001b[0;32m<ipython-input-35-6073e821f3a0>\u001b[0m in \u001b[0;36m<cell line: 2>\u001b[0;34m()\u001b[0m\n\u001b[1;32m      1\u001b[0m \u001b[0;31m#index\u001b[0m\u001b[0;34m\u001b[0m\u001b[0;34m\u001b[0m\u001b[0m\n\u001b[0;32m----> 2\u001b[0;31m \u001b[0mt3\u001b[0m\u001b[0;34m.\u001b[0m\u001b[0mindex\u001b[0m\u001b[0;34m(\u001b[0m\u001b[0;36m0\u001b[0m\u001b[0;34m)\u001b[0m\u001b[0;34m\u001b[0m\u001b[0;34m\u001b[0m\u001b[0m\n\u001b[0m",
            "\u001b[0;31mValueError\u001b[0m: tuple.index(x): x not in tuple"
          ]
        }
      ],
      "source": [
        "#index\n",
        "t3.index(0) #returns error\n"
      ]
    },
    {
      "cell_type": "code",
      "execution_count": null,
      "metadata": {
        "colab": {
          "base_uri": "https://localhost:8080/"
        },
        "id": "je0ox7IpgQ78",
        "outputId": "679d2684-f9a2-496c-a6e4-b1869d9196c6"
      },
      "outputs": [
        {
          "name": "stdout",
          "output_type": "stream",
          "text": [
            "1 2 3\n"
          ]
        }
      ],
      "source": [
        "#tuple unpacking\n",
        "a,b,c=1,2,3\n",
        "print(a,b,c)"
      ]
    },
    {
      "cell_type": "code",
      "execution_count": null,
      "metadata": {
        "colab": {
          "base_uri": "https://localhost:8080/",
          "height": 159
        },
        "id": "wUd2g7GAifwf",
        "outputId": "c99e8b1e-f3b1-49a3-8fcc-89d9bbf9d64e"
      },
      "outputs": [
        {
          "ename": "ValueError",
          "evalue": "too many values to unpack (expected 2)",
          "output_type": "error",
          "traceback": [
            "\u001b[0;31m---------------------------------------------------------------------------\u001b[0m",
            "\u001b[0;31mValueError\u001b[0m                                Traceback (most recent call last)",
            "\u001b[0;32m<ipython-input-37-42dac6fe7635>\u001b[0m in \u001b[0;36m<cell line: 1>\u001b[0;34m()\u001b[0m\n\u001b[0;32m----> 1\u001b[0;31m \u001b[0ma\u001b[0m\u001b[0;34m,\u001b[0m\u001b[0mb\u001b[0m\u001b[0;34m=\u001b[0m\u001b[0;36m1\u001b[0m\u001b[0;34m,\u001b[0m\u001b[0;36m2\u001b[0m\u001b[0;34m,\u001b[0m\u001b[0;36m3\u001b[0m\u001b[0;34m\u001b[0m\u001b[0;34m\u001b[0m\u001b[0m\n\u001b[0m\u001b[1;32m      2\u001b[0m \u001b[0mprint\u001b[0m\u001b[0;34m(\u001b[0m\u001b[0ma\u001b[0m\u001b[0;34m,\u001b[0m\u001b[0mb\u001b[0m\u001b[0;34m)\u001b[0m \u001b[0;31m#too many values\u001b[0m\u001b[0;34m\u001b[0m\u001b[0;34m\u001b[0m\u001b[0m\n",
            "\u001b[0;31mValueError\u001b[0m: too many values to unpack (expected 2)"
          ]
        }
      ],
      "source": [
        "a,b=1,2,3\n",
        "print(a,b) #too many values"
      ]
    },
    {
      "cell_type": "code",
      "execution_count": null,
      "metadata": {
        "colab": {
          "base_uri": "https://localhost:8080/"
        },
        "id": "Rrk5bV1DimTb",
        "outputId": "b777c7bc-37b5-42e3-ef74-7371c323ac9e"
      },
      "outputs": [
        {
          "name": "stdout",
          "output_type": "stream",
          "text": [
            "2 1\n"
          ]
        }
      ],
      "source": [
        "#swapping\n",
        "a=1\n",
        "b=2\n",
        "a,b=b,a\n",
        "print(a,b)"
      ]
    },
    {
      "cell_type": "code",
      "execution_count": null,
      "metadata": {
        "colab": {
          "base_uri": "https://localhost:8080/"
        },
        "id": "uVX8rTKRiyGd",
        "outputId": "d921d386-872a-4c33-c8cb-343fbe167266"
      },
      "outputs": [
        {
          "name": "stdout",
          "output_type": "stream",
          "text": [
            "1 2 [3, 4, 5]\n"
          ]
        }
      ],
      "source": [
        "a,b,*others=(1,2,3,4,5)\n",
        "print(a,b,others)"
      ]
    },
    {
      "cell_type": "code",
      "execution_count": null,
      "metadata": {
        "colab": {
          "base_uri": "https://localhost:8080/"
        },
        "id": "2bFSu8KYi1-r",
        "outputId": "2faa6381-6e01-4a51-fd82-37eeafc6cc8f"
      },
      "outputs": [
        {
          "name": "stdout",
          "output_type": "stream",
          "text": [
            "((1, 'a'), (2, 'b'), (3, 'c'), (4, 'd'))\n"
          ]
        }
      ],
      "source": [
        "#zipping tuples\n",
        "a=(1,2,3,4)\n",
        "b=('a','b','c','d')\n",
        "c=zip(a,b)\n",
        "print(tuple(c))"
      ]
    },
    {
      "cell_type": "markdown",
      "metadata": {
        "id": "13MPii43jGiG"
      },
      "source": [
        "**SETS**"
      ]
    },
    {
      "cell_type": "markdown",
      "metadata": {
        "id": "6cI5_FpzjRES"
      },
      "source": [
        "Sets: unordered colelction of items,mutable,no duplicates,cant contain mutable data types."
      ]
    },
    {
      "cell_type": "code",
      "execution_count": null,
      "metadata": {
        "colab": {
          "base_uri": "https://localhost:8080/"
        },
        "id": "MTJCiF2cjJ2P",
        "outputId": "01c59f27-6125-46b5-f25f-422c75eb3c34"
      },
      "outputs": [
        {
          "name": "stdout",
          "output_type": "stream",
          "text": [
            "{}\n",
            "<class 'dict'>\n",
            "set()\n"
          ]
        }
      ],
      "source": [
        "#creating sets\n",
        "#empty set\n",
        "s={}\n",
        "print(s)\n",
        "print(type(s)) #gives dict so this isnt a right way\n",
        "s=set() #since the default one is alloted to dict we use type conversion\n",
        "print(s)\n"
      ]
    },
    {
      "cell_type": "code",
      "execution_count": null,
      "metadata": {
        "colab": {
          "base_uri": "https://localhost:8080/",
          "height": 211
        },
        "id": "eWGL1G4GXy80",
        "outputId": "cc572323-042a-47e7-f17a-4efa84a94f04"
      },
      "outputs": [
        {
          "name": "stdout",
          "output_type": "stream",
          "text": [
            "{1, 2, 3}\n"
          ]
        },
        {
          "ename": "TypeError",
          "evalue": "unhashable type: 'set'",
          "output_type": "error",
          "traceback": [
            "\u001b[0;31m---------------------------------------------------------------------------\u001b[0m",
            "\u001b[0;31mTypeError\u001b[0m                                 Traceback (most recent call last)",
            "\u001b[0;32m<ipython-input-3-df410b6fe933>\u001b[0m in \u001b[0;36m<cell line: 4>\u001b[0;34m()\u001b[0m\n\u001b[1;32m      2\u001b[0m \u001b[0ms1\u001b[0m\u001b[0;34m=\u001b[0m\u001b[0;34m{\u001b[0m\u001b[0;36m1\u001b[0m\u001b[0;34m,\u001b[0m\u001b[0;36m2\u001b[0m\u001b[0;34m,\u001b[0m\u001b[0;36m3\u001b[0m\u001b[0;34m}\u001b[0m\u001b[0;34m\u001b[0m\u001b[0;34m\u001b[0m\u001b[0m\n\u001b[1;32m      3\u001b[0m \u001b[0mprint\u001b[0m\u001b[0;34m(\u001b[0m\u001b[0ms1\u001b[0m\u001b[0;34m)\u001b[0m\u001b[0;34m\u001b[0m\u001b[0;34m\u001b[0m\u001b[0m\n\u001b[0;32m----> 4\u001b[0;31m \u001b[0ms2\u001b[0m\u001b[0;34m=\u001b[0m\u001b[0;34m{\u001b[0m\u001b[0;36m1\u001b[0m\u001b[0;34m,\u001b[0m\u001b[0;36m2\u001b[0m\u001b[0;34m,\u001b[0m\u001b[0;36m3\u001b[0m\u001b[0;34m,\u001b[0m\u001b[0;34m{\u001b[0m\u001b[0;36m4\u001b[0m\u001b[0;34m,\u001b[0m\u001b[0;36m5\u001b[0m\u001b[0;34m}\u001b[0m\u001b[0;34m}\u001b[0m\u001b[0;34m\u001b[0m\u001b[0;34m\u001b[0m\u001b[0m\n\u001b[0m\u001b[1;32m      5\u001b[0m \u001b[0mprint\u001b[0m\u001b[0;34m(\u001b[0m\u001b[0ms2\u001b[0m\u001b[0;34m)\u001b[0m\u001b[0;34m\u001b[0m\u001b[0;34m\u001b[0m\u001b[0m\n",
            "\u001b[0;31mTypeError\u001b[0m: unhashable type: 'set'"
          ]
        }
      ],
      "source": [
        "# 1d and 2d\n",
        "s1={1,2,3}\n",
        "print(s1)\n",
        "s2={1,2,3,{4,5}} #in set it isnt possible\n",
        "print(s2)"
      ]
    },
    {
      "cell_type": "code",
      "execution_count": null,
      "metadata": {
        "colab": {
          "base_uri": "https://localhost:8080/"
        },
        "id": "_NQqpG6ZYJo5",
        "outputId": "8271506f-2c1d-4b97-8a6d-18ab9c9dc878"
      },
      "outputs": [
        {
          "name": "stdout",
          "output_type": "stream",
          "text": [
            "{1, 'hello', (1, 2, 3), 4.5}\n",
            "{1, 2, 3}\n",
            "{1, 2, 3, 4}\n"
          ]
        }
      ],
      "source": [
        "#homo\n",
        "s3={1,'hello',4.5,(1,2,3)}\n",
        "print(s3)\n",
        "s4=set([1,2,3]) #type conversion\n",
        "print(s4)\n",
        "s5={1,1,2,3,3,4}#duplicates not allowed\n",
        "print(s5)\n",
        "#s6={1,2,[3,4]}\n",
        "#print(s6) #unhashable list"
      ]
    },
    {
      "cell_type": "code",
      "execution_count": null,
      "metadata": {
        "colab": {
          "base_uri": "https://localhost:8080/"
        },
        "id": "0RyO-gT0YZXx",
        "outputId": "b481f5af-07d5-4568-8bca-3c593a00f9ab"
      },
      "outputs": [
        {
          "name": "stdout",
          "output_type": "stream",
          "text": [
            "True\n"
          ]
        }
      ],
      "source": [
        "s1={1,2,3}\n",
        "s2={3,2,1}\n",
        "print(s1==s2) #order doesnt matter"
      ]
    },
    {
      "cell_type": "code",
      "execution_count": null,
      "metadata": {
        "id": "TBsPJwK7ZbZR"
      },
      "outputs": [],
      "source": [
        "#accessing items\n",
        "s1={1,2,3,4}\n",
        "s1[0] #indexing cannot be done as they are unordered"
      ]
    },
    {
      "cell_type": "code",
      "execution_count": null,
      "metadata": {
        "id": "r6tW2tioZpCa"
      },
      "outputs": [],
      "source": [
        "#editing items\n",
        "s1={1,2,3,4}\n",
        "s1[0]=27 #cannot be done as we cant follow the indexing functionality"
      ]
    },
    {
      "cell_type": "code",
      "execution_count": null,
      "metadata": {
        "colab": {
          "base_uri": "https://localhost:8080/"
        },
        "id": "CWDykV-oZ8t_",
        "outputId": "c16e6c96-8dce-48b3-f02e-4235f6ee4572"
      },
      "outputs": [
        {
          "name": "stdout",
          "output_type": "stream",
          "text": [
            "{1, 2, 3, 4, 5}\n",
            "{1, 2, 3, 4, 5, 6, 7, 8}\n"
          ]
        }
      ],
      "source": [
        "#adding items\n",
        "s={1,2,3,4}\n",
        "s.add(5)\n",
        "print(s)\n",
        "#update -multiple items at a item unlike add where we can add one.\n",
        "s.update([6,7,8])\n",
        "print(s)\n"
      ]
    },
    {
      "cell_type": "code",
      "execution_count": null,
      "metadata": {
        "colab": {
          "base_uri": "https://localhost:8080/"
        },
        "id": "zTE4X367aXAR",
        "outputId": "4cc75bda-7587-4a1a-d605-1e0b83d7ed8a"
      },
      "outputs": [
        {
          "name": "stdout",
          "output_type": "stream",
          "text": [
            "{1, 2, 34, 4}\n",
            "{1, 2, 34}\n",
            "{2, 34}\n",
            "set()\n"
          ]
        }
      ],
      "source": [
        "#deleting items\n",
        "s={1,2,3,4,5}\n",
        "#del s[0] #cannot be done as we cant follow the indexing functionality\n",
        "del s #works\n",
        "s={1,2,34,4,5}\n",
        "#discard\n",
        "s.discard(5) #doesnt throw an error if element isnt available\n",
        "print(s)\n",
        "#remove\n",
        "s.remove(4) #throws an error if item isnt available\n",
        "print(s)\n",
        "#pop\n",
        "s.pop()\n",
        "print(s)\n",
        "#clear\n",
        "s.clear()\n",
        "print(s)\n"
      ]
    },
    {
      "cell_type": "code",
      "execution_count": null,
      "metadata": {
        "colab": {
          "background_save": true,
          "base_uri": "https://localhost:8080/"
        },
        "id": "AR38k_XebzVE",
        "outputId": "2f807b5b-5935-406e-89cd-6e1258ed5eff"
      },
      "outputs": [
        {
          "name": "stdout",
          "output_type": "stream",
          "text": [
            "{1, 2, 3, 4, 5, 6, 7, 12}\n",
            "{2, 3}\n",
            "{1, 4}\n",
            "{12, 5, 6, 7}\n",
            "{1, 4, 5, 6, 7, 12}\n",
            "True\n"
          ]
        }
      ],
      "source": [
        "#set operations\n",
        "#union\n",
        "s1={1,2,3,4}\n",
        "s2={12,2,3,5,6,7}\n",
        "print(s1|s2)\n",
        "#intersection\n",
        "print(s1&s2)\n",
        "#difference\n",
        "print(s1-s2)\n",
        "print(s2-s1)\n",
        "#symmetric difference\n",
        "print(s1^s2)\n",
        "#membership test\n",
        "print(1 in s1)\n",
        "#iteration\n"
      ]
    }
  ],
  "metadata": {
    "colab": {
      "provenance": []
    },
    "kernelspec": {
      "display_name": "Python 3",
      "name": "python3"
    },
    "language_info": {
      "name": "python"
    }
  },
  "nbformat": 4,
  "nbformat_minor": 0
}